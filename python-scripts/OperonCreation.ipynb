{
 "cells": [
  {
   "cell_type": "code",
   "execution_count": 6,
   "id": "dec2238c",
   "metadata": {},
   "outputs": [
    {
     "name": "stdout",
     "output_type": "stream",
     "text": [
      "\u001b[33mDEPRECATION: Configuring installation scheme with distutils config files is deprecated and will no longer work in the near future. If you are using a Homebrew or Linuxbrew Python, please see discussion at https://github.com/Homebrew/homebrew-core/issues/76621\u001b[0m\u001b[33m\n",
      "\u001b[0mRequirement already satisfied: dna_features_viewer in /opt/homebrew/lib/python3.9/site-packages (3.1.0)\n",
      "Requirement already satisfied: bokeh in /opt/homebrew/lib/python3.9/site-packages (2.4.2)\n",
      "Requirement already satisfied: pandas in /opt/homebrew/lib/python3.9/site-packages (1.4.2)\n",
      "Requirement already satisfied: numpy in /opt/homebrew/lib/python3.9/site-packages (1.22.3)\n",
      "Requirement already satisfied: matplotlib>=3 in /opt/homebrew/lib/python3.9/site-packages (from dna_features_viewer) (3.5.1)\n",
      "Requirement already satisfied: Biopython in /opt/homebrew/lib/python3.9/site-packages (from dna_features_viewer) (1.79)\n",
      "Requirement already satisfied: pillow>=7.1.0 in /opt/homebrew/lib/python3.9/site-packages (from bokeh) (9.1.0)\n",
      "Requirement already satisfied: PyYAML>=3.10 in /opt/homebrew/lib/python3.9/site-packages (from bokeh) (6.0)\n",
      "Requirement already satisfied: tornado>=5.1 in /opt/homebrew/lib/python3.9/site-packages (from bokeh) (6.1)\n",
      "Requirement already satisfied: Jinja2>=2.9 in /opt/homebrew/lib/python3.9/site-packages (from bokeh) (3.1.1)\n",
      "Requirement already satisfied: packaging>=16.8 in /opt/homebrew/lib/python3.9/site-packages (from bokeh) (21.3)\n",
      "Requirement already satisfied: typing-extensions>=3.10.0 in /opt/homebrew/lib/python3.9/site-packages (from bokeh) (4.2.0)\n",
      "Requirement already satisfied: python-dateutil>=2.8.1 in /opt/homebrew/lib/python3.9/site-packages (from pandas) (2.8.2)\n",
      "Requirement already satisfied: pytz>=2020.1 in /opt/homebrew/lib/python3.9/site-packages (from pandas) (2022.1)\n",
      "Requirement already satisfied: MarkupSafe>=2.0 in /opt/homebrew/lib/python3.9/site-packages (from Jinja2>=2.9->bokeh) (2.1.1)\n",
      "Requirement already satisfied: kiwisolver>=1.0.1 in /opt/homebrew/lib/python3.9/site-packages (from matplotlib>=3->dna_features_viewer) (1.4.2)\n",
      "Requirement already satisfied: cycler>=0.10 in /opt/homebrew/lib/python3.9/site-packages (from matplotlib>=3->dna_features_viewer) (0.11.0)\n",
      "Requirement already satisfied: fonttools>=4.22.0 in /opt/homebrew/lib/python3.9/site-packages (from matplotlib>=3->dna_features_viewer) (4.32.0)\n",
      "Requirement already satisfied: pyparsing>=2.2.1 in /opt/homebrew/lib/python3.9/site-packages (from matplotlib>=3->dna_features_viewer) (3.0.8)\n",
      "Requirement already satisfied: six>=1.5 in /opt/homebrew/lib/python3.9/site-packages (from python-dateutil>=2.8.1->pandas) (1.16.0)\n",
      "\u001b[33mDEPRECATION: Configuring installation scheme with distutils config files is deprecated and will no longer work in the near future. If you are using a Homebrew or Linuxbrew Python, please see discussion at https://github.com/Homebrew/homebrew-core/issues/76621\u001b[0m\u001b[33m\n",
      "\u001b[0mNote: you may need to restart the kernel to use updated packages.\n"
     ]
    }
   ],
   "source": [
    "pip install dna_features_viewer bokeh pandas numpy"
   ]
  },
  {
   "cell_type": "code",
   "execution_count": 11,
   "id": "4f92b0ad",
   "metadata": {},
   "outputs": [],
   "source": [
    "from dna_features_viewer import GraphicFeature, GraphicRecord\n",
    "import matplotlib.pyplot as plt"
   ]
  },
  {
   "cell_type": "code",
   "execution_count": 15,
   "id": "b25efec5",
   "metadata": {},
   "outputs": [
    {
     "data": {
      "image/png": "[encoded data removed]",
      "text/plain": [
       "<Figure size 1080x100.8 with 1 Axes>"
      ]
     },
     "metadata": {
      "needs_background": "light"
     },
     "output_type": "display_data"
    }
   ],
   "source": [
    "\n",
    "uni_thick = 18\n",
    "font_dict = {'fontsize' : 14}\n",
    "features=[\n",
    "    GraphicFeature(start=0, end=483, strand=+1, color=\"#ffd700\",\n",
    "                   label=\"crtZ\", fontdict = font_dict, thickness = uni_thick),\n",
    "    GraphicFeature(start=476, end=1222, strand=+1, color=\"#ffcccc\",\n",
    "                   label=\"crtW\", fontdict = font_dict, thickness = uni_thick),\n",
    "    GraphicFeature(start=1205, end=2083, strand=-1, color=\"#cffccc\",\n",
    "                   label=\"crtB\", fontdict = font_dict, thickness = uni_thick),\n",
    "    GraphicFeature(start=2101, end=3567, strand=+1, color=\"#ccccff\",\n",
    "                   label=\"crtI\", fontdict = font_dict, thickness = uni_thick),\n",
    "    GraphicFeature(start=3564, end=4709, strand=+1, color=\"#C4443B\",\n",
    "                   label=\"crtY\", fontdict = font_dict, thickness = uni_thick),\n",
    "    \n",
    "    GraphicFeature(start=5709, end=6600, strand=-1, color=\"#EE1192\",\n",
    "                   label=\"crtE\", fontdict = font_dict, thickness = uni_thick),\n",
    "    \n",
    "    GraphicFeature(start=7600, end=8845, strand=-1, color=\"#91659A\",\n",
    "                   label=\"crtX\", fontdict = font_dict, thickness = uni_thick)\n",
    "    \n",
    "]\n",
    "record = GraphicRecord(sequence_length=8845, features=features, feature_level_height=0)\n",
    "# record.default_font_family = 'Times New Roman'\n",
    "\n",
    "ax, _ = record.plot(figure_width=15, with_ruler=False)\n",
    "ax.figure.savefig('crtoperon_RD1.png', bbox_inches='tight')\n"
   ]
  },
  {
   "cell_type": "code",
   "execution_count": 16,
   "id": "db537b39",
   "metadata": {},
   "outputs": [
    {
     "data": {
      "image/png": "[encoded data removed]",
      "text/plain": [
       "<Figure size 1080x100.8 with 1 Axes>"
      ]
     },
     "metadata": {
      "needs_background": "light"
     },
     "output_type": "display_data"
    }
   ],
   "source": [
    "\n",
    "uni_thick = 18\n",
    "font_dict = {'fontsize' : 14}\n",
    "features=[\n",
    "    GraphicFeature(start=1, end=531, strand=+1, color=\"#ffd700\",\n",
    "                   label=\"crtZ\", fontdict = font_dict, thickness = uni_thick),\n",
    "    GraphicFeature(start=482, end=1420, strand=-1, color=\"#cffccc\",\n",
    "                   label=\"crtB\", fontdict = font_dict, thickness = uni_thick),\n",
    "    GraphicFeature(start=1417, end=2880, strand=-1, color=\"#ccccff\",\n",
    "                   label=\"crtI\", fontdict = font_dict, thickness = uni_thick),\n",
    "    GraphicFeature(start=2877, end=4019, strand=-1, color=\"#C4443B\",\n",
    "                   label=\"crtY\", fontdict = font_dict, thickness = uni_thick),\n",
    "    \n",
    "    \n",
    "    GraphicFeature(start=5019, end=5925, strand=+1, color=\"#EE1192\",\n",
    "                   label=\"crtE\", fontdict = font_dict, thickness = uni_thick),\n",
    "    \n",
    "    GraphicFeature(start=6925, end=8146, strand=-1, color=\"#91659A\",\n",
    "                   label=\"crtX\", fontdict = font_dict, thickness = uni_thick),\n",
    "    \n",
    "    GraphicFeature(start=8150, end=8927, strand=-1, color=\"#ffcccc\",\n",
    "                   label=\"crtW\", fontdict = font_dict, thickness = uni_thick)\n",
    "    \n",
    "]\n",
    "record = GraphicRecord(sequence_length=8927, features=features, feature_level_height=0)\n",
    "# record.default_font_family = 'Times New Roman'\n",
    "\n",
    "ax, _ = record.plot(figure_width=15, with_ruler=False)\n",
    "ax.figure.savefig('crtoperon_faciens.png', bbox_inches='tight')\n"
   ]
  },
  {
   "cell_type": "code",
   "execution_count": 18,
   "id": "54428b52",
   "metadata": {},
   "outputs": [
    {
     "data": {
      "text/plain": [
       "(<AxesSubplot:>,\n",
       " ({GF(crtZ, 1-531 (1)): 0,\n",
       "   GF(crtB, 482-1420 (-1)): 1.0,\n",
       "   GF(crtI, 1417-2880 (-1)): 0,\n",
       "   GF(crtY, 2877-4019 (-1)): 1.0,\n",
       "   GF(crtE, 5019-5925 (1)): 0,\n",
       "   GF(crtX, 6925-8146 (-1)): 0,\n",
       "   GF(crtW, 8150-8927 (-1)): 0},\n",
       "  {GF(crtZ, 1-531 (1)): {'feature_y': 0, 'annotation_y': 1.0}}))"
      ]
     },
     "execution_count": 18,
     "metadata": {},
     "output_type": "execute_result"
    },
    {
     "data": {
      "image/png": "[encoded data removed]",
      "text/plain": [
       "<Figure size 864x216 with 2 Axes>"
      ]
     },
     "metadata": {
      "needs_background": "light"
     },
     "output_type": "display_data"
    }
   ],
   "source": [
    "\n",
    "fig, (ax1, ax2) = plt.subplots(\n",
    "    2, 1, figsize=(12, 3), sharex=True, gridspec_kw={\"height_ratios\": [1, 1]}\n",
    ")\n",
    "\n",
    "\n",
    "uni_thick = 18\n",
    "font_dict = {'fontsize' : 14}\n",
    "rd1_features=[\n",
    "    GraphicFeature(start=0, end=483, strand=+1, color=\"#ffd700\",\n",
    "                   label=\"crtZ\", fontdict = font_dict, thickness = uni_thick),\n",
    "    GraphicFeature(start=476, end=1222, strand=+1, color=\"#ffcccc\",\n",
    "                   label=\"crtW\", fontdict = font_dict, thickness = uni_thick),\n",
    "    GraphicFeature(start=1205, end=2083, strand=-1, color=\"#cffccc\",\n",
    "                   label=\"crtB\", fontdict = font_dict, thickness = uni_thick),\n",
    "    GraphicFeature(start=2101, end=3567, strand=+1, color=\"#ccccff\",\n",
    "                   label=\"crtI\", fontdict = font_dict, thickness = uni_thick),\n",
    "    GraphicFeature(start=3564, end=4709, strand=+1, color=\"#C4443B\",\n",
    "                   label=\"crtY\", fontdict = font_dict, thickness = uni_thick),\n",
    "    \n",
    "    GraphicFeature(start=5709, end=6600, strand=-1, color=\"#EE1192\",\n",
    "                   label=\"crtE\", fontdict = font_dict, thickness = uni_thick),\n",
    "    \n",
    "    GraphicFeature(start=7600, end=8845, strand=-1, color=\"#91659A\",\n",
    "                   label=\"crtX\", fontdict = font_dict, thickness = uni_thick)\n",
    "    \n",
    "]\n",
    "\n",
    "faciens_features=[\n",
    "    GraphicFeature(start=1, end=531, strand=+1, color=\"#ffd700\",\n",
    "                   label=\"crtZ\", fontdict = font_dict, thickness = uni_thick),\n",
    "    GraphicFeature(start=482, end=1420, strand=-1, color=\"#cffccc\",\n",
    "                   label=\"crtB\", fontdict = font_dict, thickness = uni_thick),\n",
    "    GraphicFeature(start=1417, end=2880, strand=-1, color=\"#ccccff\",\n",
    "                   label=\"crtI\", fontdict = font_dict, thickness = uni_thick),\n",
    "    GraphicFeature(start=2877, end=4019, strand=-1, color=\"#C4443B\",\n",
    "                   label=\"crtY\", fontdict = font_dict, thickness = uni_thick),\n",
    "    \n",
    "    \n",
    "    GraphicFeature(start=5019, end=5925, strand=+1, color=\"#EE1192\",\n",
    "                   label=\"crtE\", fontdict = font_dict, thickness = uni_thick),\n",
    "    \n",
    "    GraphicFeature(start=6925, end=8146, strand=-1, color=\"#91659A\",\n",
    "                   label=\"crtX\", fontdict = font_dict, thickness = uni_thick),\n",
    "    \n",
    "    GraphicFeature(start=8150, end=8927, strand=-1, color=\"#ffcccc\",\n",
    "                   label=\"crtW\", fontdict = font_dict, thickness = uni_thick)\n",
    "    \n",
    "]\n",
    "rd1_record = GraphicRecord(sequence_length=8845, features=rd1_features, feature_level_height=0)\n",
    "faciens_record = GraphicRecord(sequence_length=8845, features=faciens_features, feature_level_height=0)\n",
    "\n",
    "rd1_record.plot(ax = ax1, figure_width=15, with_ruler=False)\n",
    "faciens_record.plot(ax = ax2, figure_width=15, with_ruler=False)\n"
   ]
  },
  {
   "cell_type": "code",
   "execution_count": null,
   "id": "a9817592",
   "metadata": {},
   "outputs": [],
   "source": []
  }
 ],
 "metadata": {
  "kernelspec": {
   "display_name": "Python 3 (ipykernel)",
   "language": "python",
   "name": "python3"
  },
  "language_info": {
   "codemirror_mode": {
    "name": "ipython",
    "version": 3
   },
   "file_extension": ".py",
   "mimetype": "text/x-python",
   "name": "python",
   "nbconvert_exporter": "python",
   "pygments_lexer": "ipython3",
   "version": "3.9.12"
  }
 },
 "nbformat": 4,
 "nbformat_minor": 5
}
